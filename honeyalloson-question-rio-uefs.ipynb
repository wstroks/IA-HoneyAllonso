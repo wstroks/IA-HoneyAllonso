{
 "cells": [
  {
   "cell_type": "code",
   "execution_count": 1,
   "metadata": {
    "_cell_guid": "79c7e3d0-c299-4dcb-8224-4455121ee9b0",
    "_uuid": "d629ff2d2480ee46fbb7e2d37f6b5fab8052498a"
   },
   "outputs": [],
   "source": [
    "import pandas as pd\n",
    "import numpy as np"
   ]
  },
  {
   "cell_type": "code",
   "execution_count": 2,
   "metadata": {},
   "outputs": [],
   "source": [
    "base = pd.read_json('/kaggle/input/tipos-de-aprendizagem-aluno/honey-allonso.json')\n",
    "base_saida = pd.read_json('/kaggle/input/tipos-de-aprendizagem-aluno/label-honey-allonso.json')"
   ]
  },
  {
   "cell_type": "markdown",
   "metadata": {},
   "source": [
    "# Questionário\n",
    "1. Tenho fama de dizer o que penso claramente e sem rodeios.\n",
    "2. Estou seguro(a) do que é bom e do que é mau, do que está bem e do que está mal.\n",
    "3. Muitas vezes faço, sem olhar as conseqüências.\n",
    "4. Normalmente, resolvo os problemas metodicamente e passo a passo.\n",
    "5. Creio que a formalidade corta e limita a atuação espontânea das pessoas.\n",
    "6. Interessa-me saber quais são os sistemas de valores dos outros e com que critérios atuam.\n",
    "7. Penso que agir intuitivamente pode ser sempre tão válido como atuar reflexivamente.\n",
    "8. Creio que o mais importante é que as coisas funcionem.\n",
    "9. Procuro estar atento(a) ao que acontece aqui e agora.\n",
    "10. Agrada-me quando tenho tempo para preparar meu trabalho e realizá-lo com consciência.\n",
    "11. Estou seguindo, porque quero, uma ordem na alimentação, no estudo, fazendo exercícios regularmente.\n",
    "12. Quando escuto uma nova idéia, em seguida, começo a pensar como colocá-la em prática.\n",
    "13. Prefiro as idéias originais e novas mesmo que não sejam práticas.\n",
    "14. Admito e me ajusto às normas somente se servem para atingir meus objetivos.\n",
    "15. Normalmente me dou bem com pessoas reflexivas, e me custa sintonizar com pessoas demasiadamente espontâneas e imprevisíveis.\n",
    "16. Escuto com mais freqüência do que falo.\n",
    "17. Prefiro as coisas estruturadas do que as desordenadas.\n",
    "18. Quando possuo qualquer informação, trato de interpretá-la bem antes de manifestar alguma conclusão.\n",
    "19. Antes de fazer algo, estudo com cuidado suas vantagens e inconvenientes.\n",
    "20. Estimula-me o fato de fazer algo novo e diferente.\n",
    "21. Quase sempre procuro ser coerente com meus critérios e escala de valores. Tenho princípios e os sigo.\n",
    "22. Em uma discussão, não gosto de rodeios.\n",
    "23. Não me agrada envolvimento afetivo no ambiente de trabalho. Prefiro manter relações distantes.\n",
    "24. Gosto mais das pessoas realistas e concretas do que as teóricas.\n",
    "25. É difícil ser criativo(a) e romper estruturas.\n",
    "26. Gosto de estar perto de pessoas espontâneas e divertidas.\n",
    "27. A maioria das vezes expresso abertamente como me sinto.\n",
    "28. Gosto de analisar e esmiuçar as coisas.\n",
    "29. Incomoda-me o fato das pessoas não tomarem as coisas a sério.\n",
    "30. Atrai-me experimentar e praticar as últimas técnicas e novidades.\n",
    "31. Sou cauteloso(a) na hora de tirar conclusões.\n",
    "32. Prefiro contar com o maior número de fontes de informação. Quanto mais dados tiver reunido para refletir, melhor.\n",
    "33. Tenho tendência a ser perfeccionista.\n",
    "34. Prefiro ouvir a opinião dos outros antes de expor a minha.\n",
    "35. Gosto de levar a vida espontaneamente e não ter que planejá-la.\n",
    "36. Nas discussões gosto de observar como atuam os outros participantes.\n",
    "37. Sinto-me incomodado(a) com as pessoas caladas e demasiadamente analíticas.\n",
    "38. Julgo com freqüência as idéias dos outros, por seu valor prático.\n",
    "39. Angustio-me se me obrigam a acelerar muito o trabalho para cumprir um prazo.\n",
    "40. Nas reuniões apoio as idéias práticas e realistas.\n",
    "41. É melhor aproveitar o momento presente do que deleitar-se pensando no passado ou no futuro.\n",
    "42. Incomodam-me as pessoas que sempre desejam apressar as coisas.\n",
    "43. Apoio idéias novas e espontâneas nos grupos de discussão.\n",
    "44. Penso que são mais consistentes as decisões fundamentadas em uma minuciosa análise do que as baseadas na intuição.\n",
    "45. Detecto freqüentemente a inconsistência e os pontos frágeis nas argumentações dos outros.\n",
    "46. Creio que é preciso transpor as normas muito mais vezes do que cumpri-las.\n",
    "47. Freqüentemente, percebo outras formas melhores e mais práticas de fazer as coisas.\n",
    "48. No geral, falo mais do que escuto.\n",
    "49. Prefiro distanciar-me dos fatos e observá-los a partir de outras perspectivas.\n",
    "50. Estou convencido(a) de que deve impor-se a lógica e a razão.\n",
    "51. Gosto de buscar novas experiências.\n",
    "52. Gosto de experimentar e aplicar as coisas.\n",
    "53. Penso que devemos chegar logo ao âmago, ao centro das questões.\n",
    "54. Procuro sempre chegar a conclusões e idéias claras.\n",
    "55. Prefiro discutir questões concretas e não perder tempo com falas vazias.\n",
    "56. Incomodo-me quando dão explicações irrelevantes e incoerentes.\n",
    "57. Comprovo antes se as coisas funcionam realmente.\n",
    "58. Faço vários borrões antes da redação final de um trabalho.\n",
    "59. Sou consciente de que nas discussões ajudo a manter os outros centrados nos temas, evitando divagações.\n",
    "60. Observo que, com freqüência, sou um(a) dos(as) mais objetivos e ponderados nas discussões.\n",
    "61. Quando algo vai mal, não dou importância e trato de fazê-lo melhor.\n",
    "62. Desconsidero as idéias originais e espontâneas se não as percebo práticas.\n",
    "63. Gosto de analisar diversas alternativas antes de tomar uma decisão.\n",
    "64. Com freqüência, olho adiante para prever o futuro.\n",
    "65. Nos debates e discussões prefiro desempenhar um papel secundário do que ser o(a) líder ou o(a) que mais participa.\n",
    "66. Me incomodam as pessoas que não atuam com lógica.\n",
    "67. Me incomoda ter que planejar e prever as coisas.\n",
    "68. Creio que o fim justifica os meios em muitos casos.\n",
    "69. Costumo refletir sobre os assuntos e problemas.\n",
    "70. O trabalho consciente me trás satisfação e orgulho.\n",
    "71. Diante dos acontecimentos trato de descobrir os princípios e teorias em que se baseiam.\n",
    "72. Com o intuito de conseguir o objetivo que pretendo, sou capaz de ferir sentimentos alheios\n",
    "73. Não me importa fazer todo o necessário para que o meu trabalho seja efetivado.\n",
    "74. Com freqüência, sou uma das pessoas que mais anima as festas.\n",
    "75. Me aborreço, freqüentemente, com o trabalho metódico e minucioso.\n",
    "76. As pessoas, com freqüência, crêem que sou pouco sensível a seus sentimentos.\n",
    "77. Costumo deixar-me levar por minhas intuições.\n",
    "78. Nos trabalhos de grupo, procuro que se siga um método e uma ordem.\n",
    "79. Com freqüência, me interessa saber o que as pessoas pensam.\n",
    "80. Evito os temas subjetivos, ambíguos e pouco claros."
   ]
  },
  {
   "cell_type": "code",
   "execution_count": 3,
   "metadata": {},
   "outputs": [
    {
     "data": {
      "text/html": [
       "<div>\n",
       "<style scoped>\n",
       "    .dataframe tbody tr th:only-of-type {\n",
       "        vertical-align: middle;\n",
       "    }\n",
       "\n",
       "    .dataframe tbody tr th {\n",
       "        vertical-align: top;\n",
       "    }\n",
       "\n",
       "    .dataframe thead th {\n",
       "        text-align: right;\n",
       "    }\n",
       "</style>\n",
       "<table border=\"1\" class=\"dataframe\">\n",
       "  <thead>\n",
       "    <tr style=\"text-align: right;\">\n",
       "      <th></th>\n",
       "      <th>p1</th>\n",
       "      <th>p2</th>\n",
       "      <th>p3</th>\n",
       "      <th>p4</th>\n",
       "      <th>p5</th>\n",
       "      <th>p6</th>\n",
       "      <th>p7</th>\n",
       "      <th>p8</th>\n",
       "      <th>p9</th>\n",
       "      <th>p10</th>\n",
       "      <th>...</th>\n",
       "      <th>p71</th>\n",
       "      <th>p72</th>\n",
       "      <th>p73</th>\n",
       "      <th>p74</th>\n",
       "      <th>p75</th>\n",
       "      <th>p76</th>\n",
       "      <th>p77</th>\n",
       "      <th>p78</th>\n",
       "      <th>p79</th>\n",
       "      <th>p80</th>\n",
       "    </tr>\n",
       "  </thead>\n",
       "  <tbody>\n",
       "    <tr>\n",
       "      <th>0</th>\n",
       "      <td>0</td>\n",
       "      <td>0</td>\n",
       "      <td>1</td>\n",
       "      <td>0</td>\n",
       "      <td>1</td>\n",
       "      <td>1</td>\n",
       "      <td>1</td>\n",
       "      <td>1</td>\n",
       "      <td>1</td>\n",
       "      <td>1</td>\n",
       "      <td>...</td>\n",
       "      <td>1</td>\n",
       "      <td>1</td>\n",
       "      <td>0</td>\n",
       "      <td>0</td>\n",
       "      <td>1</td>\n",
       "      <td>1</td>\n",
       "      <td>0</td>\n",
       "      <td>0</td>\n",
       "      <td>1</td>\n",
       "      <td>1</td>\n",
       "    </tr>\n",
       "    <tr>\n",
       "      <th>1</th>\n",
       "      <td>0</td>\n",
       "      <td>1</td>\n",
       "      <td>0</td>\n",
       "      <td>1</td>\n",
       "      <td>0</td>\n",
       "      <td>0</td>\n",
       "      <td>0</td>\n",
       "      <td>0</td>\n",
       "      <td>0</td>\n",
       "      <td>1</td>\n",
       "      <td>...</td>\n",
       "      <td>0</td>\n",
       "      <td>1</td>\n",
       "      <td>1</td>\n",
       "      <td>0</td>\n",
       "      <td>0</td>\n",
       "      <td>0</td>\n",
       "      <td>0</td>\n",
       "      <td>1</td>\n",
       "      <td>1</td>\n",
       "      <td>1</td>\n",
       "    </tr>\n",
       "    <tr>\n",
       "      <th>2</th>\n",
       "      <td>1</td>\n",
       "      <td>1</td>\n",
       "      <td>1</td>\n",
       "      <td>1</td>\n",
       "      <td>1</td>\n",
       "      <td>1</td>\n",
       "      <td>0</td>\n",
       "      <td>0</td>\n",
       "      <td>1</td>\n",
       "      <td>1</td>\n",
       "      <td>...</td>\n",
       "      <td>0</td>\n",
       "      <td>0</td>\n",
       "      <td>0</td>\n",
       "      <td>1</td>\n",
       "      <td>1</td>\n",
       "      <td>1</td>\n",
       "      <td>0</td>\n",
       "      <td>0</td>\n",
       "      <td>0</td>\n",
       "      <td>0</td>\n",
       "    </tr>\n",
       "    <tr>\n",
       "      <th>3</th>\n",
       "      <td>1</td>\n",
       "      <td>0</td>\n",
       "      <td>0</td>\n",
       "      <td>0</td>\n",
       "      <td>1</td>\n",
       "      <td>1</td>\n",
       "      <td>1</td>\n",
       "      <td>1</td>\n",
       "      <td>0</td>\n",
       "      <td>0</td>\n",
       "      <td>...</td>\n",
       "      <td>1</td>\n",
       "      <td>1</td>\n",
       "      <td>1</td>\n",
       "      <td>1</td>\n",
       "      <td>1</td>\n",
       "      <td>0</td>\n",
       "      <td>1</td>\n",
       "      <td>0</td>\n",
       "      <td>1</td>\n",
       "      <td>1</td>\n",
       "    </tr>\n",
       "    <tr>\n",
       "      <th>4</th>\n",
       "      <td>1</td>\n",
       "      <td>1</td>\n",
       "      <td>1</td>\n",
       "      <td>0</td>\n",
       "      <td>1</td>\n",
       "      <td>0</td>\n",
       "      <td>1</td>\n",
       "      <td>1</td>\n",
       "      <td>0</td>\n",
       "      <td>0</td>\n",
       "      <td>...</td>\n",
       "      <td>1</td>\n",
       "      <td>0</td>\n",
       "      <td>0</td>\n",
       "      <td>1</td>\n",
       "      <td>0</td>\n",
       "      <td>1</td>\n",
       "      <td>1</td>\n",
       "      <td>1</td>\n",
       "      <td>1</td>\n",
       "      <td>0</td>\n",
       "    </tr>\n",
       "    <tr>\n",
       "      <th>...</th>\n",
       "      <td>...</td>\n",
       "      <td>...</td>\n",
       "      <td>...</td>\n",
       "      <td>...</td>\n",
       "      <td>...</td>\n",
       "      <td>...</td>\n",
       "      <td>...</td>\n",
       "      <td>...</td>\n",
       "      <td>...</td>\n",
       "      <td>...</td>\n",
       "      <td>...</td>\n",
       "      <td>...</td>\n",
       "      <td>...</td>\n",
       "      <td>...</td>\n",
       "      <td>...</td>\n",
       "      <td>...</td>\n",
       "      <td>...</td>\n",
       "      <td>...</td>\n",
       "      <td>...</td>\n",
       "      <td>...</td>\n",
       "      <td>...</td>\n",
       "    </tr>\n",
       "    <tr>\n",
       "      <th>2995</th>\n",
       "      <td>1</td>\n",
       "      <td>1</td>\n",
       "      <td>0</td>\n",
       "      <td>1</td>\n",
       "      <td>1</td>\n",
       "      <td>0</td>\n",
       "      <td>1</td>\n",
       "      <td>1</td>\n",
       "      <td>1</td>\n",
       "      <td>0</td>\n",
       "      <td>...</td>\n",
       "      <td>0</td>\n",
       "      <td>1</td>\n",
       "      <td>0</td>\n",
       "      <td>0</td>\n",
       "      <td>0</td>\n",
       "      <td>0</td>\n",
       "      <td>0</td>\n",
       "      <td>1</td>\n",
       "      <td>1</td>\n",
       "      <td>0</td>\n",
       "    </tr>\n",
       "    <tr>\n",
       "      <th>2996</th>\n",
       "      <td>0</td>\n",
       "      <td>1</td>\n",
       "      <td>1</td>\n",
       "      <td>1</td>\n",
       "      <td>1</td>\n",
       "      <td>0</td>\n",
       "      <td>0</td>\n",
       "      <td>0</td>\n",
       "      <td>0</td>\n",
       "      <td>1</td>\n",
       "      <td>...</td>\n",
       "      <td>1</td>\n",
       "      <td>0</td>\n",
       "      <td>1</td>\n",
       "      <td>0</td>\n",
       "      <td>1</td>\n",
       "      <td>1</td>\n",
       "      <td>0</td>\n",
       "      <td>0</td>\n",
       "      <td>0</td>\n",
       "      <td>1</td>\n",
       "    </tr>\n",
       "    <tr>\n",
       "      <th>2997</th>\n",
       "      <td>1</td>\n",
       "      <td>1</td>\n",
       "      <td>0</td>\n",
       "      <td>1</td>\n",
       "      <td>1</td>\n",
       "      <td>0</td>\n",
       "      <td>0</td>\n",
       "      <td>0</td>\n",
       "      <td>0</td>\n",
       "      <td>0</td>\n",
       "      <td>...</td>\n",
       "      <td>0</td>\n",
       "      <td>0</td>\n",
       "      <td>0</td>\n",
       "      <td>0</td>\n",
       "      <td>1</td>\n",
       "      <td>1</td>\n",
       "      <td>0</td>\n",
       "      <td>1</td>\n",
       "      <td>0</td>\n",
       "      <td>1</td>\n",
       "    </tr>\n",
       "    <tr>\n",
       "      <th>2998</th>\n",
       "      <td>1</td>\n",
       "      <td>1</td>\n",
       "      <td>1</td>\n",
       "      <td>1</td>\n",
       "      <td>1</td>\n",
       "      <td>1</td>\n",
       "      <td>1</td>\n",
       "      <td>0</td>\n",
       "      <td>1</td>\n",
       "      <td>1</td>\n",
       "      <td>...</td>\n",
       "      <td>0</td>\n",
       "      <td>0</td>\n",
       "      <td>1</td>\n",
       "      <td>0</td>\n",
       "      <td>0</td>\n",
       "      <td>1</td>\n",
       "      <td>1</td>\n",
       "      <td>1</td>\n",
       "      <td>1</td>\n",
       "      <td>1</td>\n",
       "    </tr>\n",
       "    <tr>\n",
       "      <th>2999</th>\n",
       "      <td>0</td>\n",
       "      <td>1</td>\n",
       "      <td>1</td>\n",
       "      <td>0</td>\n",
       "      <td>1</td>\n",
       "      <td>1</td>\n",
       "      <td>0</td>\n",
       "      <td>1</td>\n",
       "      <td>0</td>\n",
       "      <td>1</td>\n",
       "      <td>...</td>\n",
       "      <td>0</td>\n",
       "      <td>0</td>\n",
       "      <td>1</td>\n",
       "      <td>0</td>\n",
       "      <td>1</td>\n",
       "      <td>0</td>\n",
       "      <td>1</td>\n",
       "      <td>0</td>\n",
       "      <td>0</td>\n",
       "      <td>1</td>\n",
       "    </tr>\n",
       "  </tbody>\n",
       "</table>\n",
       "<p>3000 rows × 80 columns</p>\n",
       "</div>"
      ],
      "text/plain": [
       "      p1  p2  p3  p4  p5  p6  p7  p8  p9  p10  ...  p71  p72  p73  p74  p75  \\\n",
       "0      0   0   1   0   1   1   1   1   1    1  ...    1    1    0    0    1   \n",
       "1      0   1   0   1   0   0   0   0   0    1  ...    0    1    1    0    0   \n",
       "2      1   1   1   1   1   1   0   0   1    1  ...    0    0    0    1    1   \n",
       "3      1   0   0   0   1   1   1   1   0    0  ...    1    1    1    1    1   \n",
       "4      1   1   1   0   1   0   1   1   0    0  ...    1    0    0    1    0   \n",
       "...   ..  ..  ..  ..  ..  ..  ..  ..  ..  ...  ...  ...  ...  ...  ...  ...   \n",
       "2995   1   1   0   1   1   0   1   1   1    0  ...    0    1    0    0    0   \n",
       "2996   0   1   1   1   1   0   0   0   0    1  ...    1    0    1    0    1   \n",
       "2997   1   1   0   1   1   0   0   0   0    0  ...    0    0    0    0    1   \n",
       "2998   1   1   1   1   1   1   1   0   1    1  ...    0    0    1    0    0   \n",
       "2999   0   1   1   0   1   1   0   1   0    1  ...    0    0    1    0    1   \n",
       "\n",
       "      p76  p77  p78  p79  p80  \n",
       "0       1    0    0    1    1  \n",
       "1       0    0    1    1    1  \n",
       "2       1    0    0    0    0  \n",
       "3       0    1    0    1    1  \n",
       "4       1    1    1    1    0  \n",
       "...   ...  ...  ...  ...  ...  \n",
       "2995    0    0    1    1    0  \n",
       "2996    1    0    0    0    1  \n",
       "2997    1    0    1    0    1  \n",
       "2998    1    1    1    1    1  \n",
       "2999    0    1    0    0    1  \n",
       "\n",
       "[3000 rows x 80 columns]"
      ]
     },
     "execution_count": 3,
     "metadata": {},
     "output_type": "execute_result"
    }
   ],
   "source": [
    "base"
   ]
  },
  {
   "cell_type": "code",
   "execution_count": 4,
   "metadata": {},
   "outputs": [
    {
     "data": {
      "text/html": [
       "<div>\n",
       "<style scoped>\n",
       "    .dataframe tbody tr th:only-of-type {\n",
       "        vertical-align: middle;\n",
       "    }\n",
       "\n",
       "    .dataframe tbody tr th {\n",
       "        vertical-align: top;\n",
       "    }\n",
       "\n",
       "    .dataframe thead th {\n",
       "        text-align: right;\n",
       "    }\n",
       "</style>\n",
       "<table border=\"1\" class=\"dataframe\">\n",
       "  <thead>\n",
       "    <tr style=\"text-align: right;\">\n",
       "      <th></th>\n",
       "      <th>tipo_aprendizagem</th>\n",
       "    </tr>\n",
       "  </thead>\n",
       "  <tbody>\n",
       "    <tr>\n",
       "      <th>0</th>\n",
       "      <td>Teorico</td>\n",
       "    </tr>\n",
       "    <tr>\n",
       "      <th>1</th>\n",
       "      <td>Teorico</td>\n",
       "    </tr>\n",
       "    <tr>\n",
       "      <th>2</th>\n",
       "      <td>Teorico</td>\n",
       "    </tr>\n",
       "    <tr>\n",
       "      <th>3</th>\n",
       "      <td>Pragmatico</td>\n",
       "    </tr>\n",
       "    <tr>\n",
       "      <th>4</th>\n",
       "      <td>Ativo</td>\n",
       "    </tr>\n",
       "    <tr>\n",
       "      <th>...</th>\n",
       "      <td>...</td>\n",
       "    </tr>\n",
       "    <tr>\n",
       "      <th>2995</th>\n",
       "      <td>Pragmatico</td>\n",
       "    </tr>\n",
       "    <tr>\n",
       "      <th>2996</th>\n",
       "      <td>Teorico</td>\n",
       "    </tr>\n",
       "    <tr>\n",
       "      <th>2997</th>\n",
       "      <td>Pragmatico</td>\n",
       "    </tr>\n",
       "    <tr>\n",
       "      <th>2998</th>\n",
       "      <td>Pragmatico</td>\n",
       "    </tr>\n",
       "    <tr>\n",
       "      <th>2999</th>\n",
       "      <td>Ativo</td>\n",
       "    </tr>\n",
       "  </tbody>\n",
       "</table>\n",
       "<p>3000 rows × 1 columns</p>\n",
       "</div>"
      ],
      "text/plain": [
       "     tipo_aprendizagem\n",
       "0              Teorico\n",
       "1              Teorico\n",
       "2              Teorico\n",
       "3           Pragmatico\n",
       "4                Ativo\n",
       "...                ...\n",
       "2995        Pragmatico\n",
       "2996           Teorico\n",
       "2997        Pragmatico\n",
       "2998        Pragmatico\n",
       "2999             Ativo\n",
       "\n",
       "[3000 rows x 1 columns]"
      ]
     },
     "execution_count": 4,
     "metadata": {},
     "output_type": "execute_result"
    }
   ],
   "source": [
    "base_saida"
   ]
  },
  {
   "cell_type": "code",
   "execution_count": 5,
   "metadata": {},
   "outputs": [],
   "source": [
    "previsores= base.iloc[:,0:81].values\n",
    "classe = base_saida.iloc[:,0].values"
   ]
  },
  {
   "cell_type": "code",
   "execution_count": 6,
   "metadata": {},
   "outputs": [
    {
     "data": {
      "text/plain": [
       "(3000, 80)"
      ]
     },
     "execution_count": 6,
     "metadata": {},
     "output_type": "execute_result"
    }
   ],
   "source": [
    "previsores.shape\n"
   ]
  },
  {
   "cell_type": "code",
   "execution_count": 7,
   "metadata": {},
   "outputs": [
    {
     "data": {
      "text/plain": [
       "(3000,)"
      ]
     },
     "execution_count": 7,
     "metadata": {},
     "output_type": "execute_result"
    }
   ],
   "source": [
    "classe.shape"
   ]
  },
  {
   "cell_type": "code",
   "execution_count": 8,
   "metadata": {},
   "outputs": [
    {
     "data": {
      "text/plain": [
       "array(['Teorico', 'Teorico', 'Teorico', ..., 'Pragmatico', 'Pragmatico',\n",
       "       'Ativo'], dtype=object)"
      ]
     },
     "execution_count": 8,
     "metadata": {},
     "output_type": "execute_result"
    }
   ],
   "source": [
    "classe"
   ]
  },
  {
   "cell_type": "code",
   "execution_count": 9,
   "metadata": {},
   "outputs": [],
   "source": [
    "from sklearn.preprocessing import LabelEncoder,OneHotEncoder"
   ]
  },
  {
   "cell_type": "code",
   "execution_count": 10,
   "metadata": {},
   "outputs": [],
   "source": [
    "#onehotencoder= OneHotEncoder(categories='auto', drop=None, sparse=True, dtype='float64', handle_unknown='error')\n",
    "#previsores = onehotencoder.fit_transform(previsores).toarray()"
   ]
  },
  {
   "cell_type": "code",
   "execution_count": 11,
   "metadata": {},
   "outputs": [],
   "source": [
    "labelenconderclasse=LabelEncoder()\n",
    "\n",
    "classe=labelenconderclasse.fit_transform(classe)"
   ]
  },
  {
   "cell_type": "code",
   "execution_count": 12,
   "metadata": {},
   "outputs": [
    {
     "data": {
      "text/plain": [
       "array([3, 3, 3, ..., 1, 1, 0])"
      ]
     },
     "execution_count": 12,
     "metadata": {},
     "output_type": "execute_result"
    }
   ],
   "source": [
    "classe"
   ]
  },
  {
   "cell_type": "code",
   "execution_count": 13,
   "metadata": {},
   "outputs": [],
   "source": [
    "#from sklearn.preprocessing import StandardScaler\n",
    "#escalona = StandardScaler()\n",
    "#previsores=escalona.fit_transform(previsores)"
   ]
  },
  {
   "cell_type": "code",
   "execution_count": 14,
   "metadata": {},
   "outputs": [],
   "source": [
    "from sklearn.model_selection import train_test_split\n",
    "from sklearn.ensemble import RandomForestClassifier\n",
    "from sklearn.metrics import confusion_matrix,accuracy_score"
   ]
  },
  {
   "cell_type": "code",
   "execution_count": 15,
   "metadata": {},
   "outputs": [],
   "source": [
    "def random_forest(previsores,classe):\n",
    "    previsores_treinamento , previsores_teste,classe_treinamento, classe_teste=train_test_split(previsores,classe,test_size=0.25, random_state=2)\n",
    "    classificador_random_florest=RandomForestClassifier(n_estimators=80,criterion='entropy',random_state=2)\n",
    "    classificador_random_florest.fit(previsores_treinamento,classe_treinamento)\n",
    "    previsao=classificador_random_florest.predict(previsores_teste)\n",
    "    precisao=accuracy_score(classe_teste,previsao)\n",
    "    matriz=confusion_matrix(classe_teste,previsao)\n",
    "    return precisao, matriz"
   ]
  },
  {
   "cell_type": "code",
   "execution_count": 16,
   "metadata": {},
   "outputs": [],
   "source": [
    "precisao,matriz=random_forest(previsores,classe)"
   ]
  },
  {
   "cell_type": "code",
   "execution_count": 17,
   "metadata": {},
   "outputs": [],
   "source": [
    "array=[]"
   ]
  },
  {
   "cell_type": "code",
   "execution_count": 18,
   "metadata": {},
   "outputs": [
    {
     "data": {
      "text/plain": [
       "[{'modelo': 'Random Florest', 'Precisão': 0.5973333333333334}]"
      ]
     },
     "execution_count": 18,
     "metadata": {},
     "output_type": "execute_result"
    }
   ],
   "source": [
    "array.append({'modelo':\"Random Florest\", \"Precisão\":precisao})\n",
    "array"
   ]
  },
  {
   "cell_type": "code",
   "execution_count": 19,
   "metadata": {},
   "outputs": [
    {
     "data": {
      "text/plain": [
       "0.5973333333333334"
      ]
     },
     "execution_count": 19,
     "metadata": {},
     "output_type": "execute_result"
    }
   ],
   "source": [
    "precisao"
   ]
  },
  {
   "cell_type": "code",
   "execution_count": 20,
   "metadata": {},
   "outputs": [
    {
     "data": {
      "text/plain": [
       "array([[ 99,  54,  19,   7],\n",
       "       [ 23, 205,  16,   3],\n",
       "       [ 33,  54,  87,   6],\n",
       "       [ 19,  47,  21,  57]])"
      ]
     },
     "execution_count": 20,
     "metadata": {},
     "output_type": "execute_result"
    }
   ],
   "source": [
    "matriz"
   ]
  },
  {
   "cell_type": "code",
   "execution_count": 21,
   "metadata": {},
   "outputs": [],
   "source": [
    "from sklearn.ensemble import GradientBoostingClassifier\n",
    "from sklearn.metrics import roc_auc_score\n",
    "from sklearn.model_selection import  cross_val_score, GridSearchCV"
   ]
  },
  {
   "cell_type": "code",
   "execution_count": 22,
   "metadata": {},
   "outputs": [],
   "source": [
    "def gbc(previsores, classe):\n",
    "    previsores_treinamento , previsores_teste,classe_treinamento, classe_teste=train_test_split(previsores,classe,test_size=0.25, random_state=0) \n",
    "    np.random.seed(0)\n",
    "    gbc = GradientBoostingClassifier(n_estimators = 100, learning_rate = 0.1,\n",
    "                                  random_state = 0)\n",
    "    #cv_scores = cross_val_score(gbc, previsores_treinamento, classe_treinamento, scoring = 'roc_auc', cv = 5, n_jobs = -1)\n",
    "    gbc.fit(previsores_treinamento,classe_treinamento)\n",
    "    previsao=gbc.predict(previsores_teste)\n",
    "    precisao=accuracy_score(classe_teste,previsao)\n",
    "    matriz=confusion_matrix(classe_teste,previsao)\n",
    "    return precisao,matriz;"
   ]
  },
  {
   "cell_type": "code",
   "execution_count": 23,
   "metadata": {},
   "outputs": [],
   "source": [
    "precisao1,matriz=gbc(previsores,classe)"
   ]
  },
  {
   "cell_type": "code",
   "execution_count": 24,
   "metadata": {},
   "outputs": [
    {
     "data": {
      "text/plain": [
       "[{'modelo': 'Random Florest', 'Precisão': 0.5973333333333334},\n",
       " {'modelo': 'Gradient Boosting:', 'Precisão': 0.796}]"
      ]
     },
     "execution_count": 24,
     "metadata": {},
     "output_type": "execute_result"
    }
   ],
   "source": [
    "array.append({'modelo':\"Gradient Boosting:\", \"Precisão\":precisao1})\n",
    "array"
   ]
  },
  {
   "cell_type": "code",
   "execution_count": 25,
   "metadata": {},
   "outputs": [
    {
     "data": {
      "text/plain": [
       "0.796"
      ]
     },
     "execution_count": 25,
     "metadata": {},
     "output_type": "execute_result"
    }
   ],
   "source": [
    "precisao1"
   ]
  },
  {
   "cell_type": "code",
   "execution_count": 26,
   "metadata": {},
   "outputs": [],
   "source": [
    "from sklearn.tree import DecisionTreeClassifier"
   ]
  },
  {
   "cell_type": "code",
   "execution_count": 27,
   "metadata": {},
   "outputs": [],
   "source": [
    "def tree_decision(previsores, classe):\n",
    "    previsores_treinamento , previsores_teste,classe_treinamento, classe_teste=train_test_split(previsores,classe,test_size=0.25, random_state=0)\n",
    "    classificador=DecisionTreeClassifier(criterion='entropy',random_state=0)\n",
    "    classificador.fit(previsores_treinamento,classe_treinamento)\n",
    "    previsoes=classificador.predict(previsores_teste)\n",
    "    precisao=accuracy_score(classe_teste,previsoes)\n",
    "    matriz=confusion_matrix(classe_teste,previsoes)\n",
    "    return precisao, matriz"
   ]
  },
  {
   "cell_type": "code",
   "execution_count": 28,
   "metadata": {},
   "outputs": [],
   "source": [
    "precisao,matriz=tree_decision(previsores,classe)"
   ]
  },
  {
   "cell_type": "code",
   "execution_count": 29,
   "metadata": {},
   "outputs": [
    {
     "data": {
      "text/plain": [
       "[{'modelo': 'Random Florest', 'Precisão': 0.5973333333333334},\n",
       " {'modelo': 'Gradient Boosting:', 'Precisão': 0.796},\n",
       " {'modelo': 'Tree Decision:', 'Precisão': 0.30133333333333334}]"
      ]
     },
     "execution_count": 29,
     "metadata": {},
     "output_type": "execute_result"
    }
   ],
   "source": [
    "array.append({'modelo':\"Tree Decision:\", \"Precisão\":precisao})\n",
    "array"
   ]
  },
  {
   "cell_type": "code",
   "execution_count": 30,
   "metadata": {},
   "outputs": [
    {
     "data": {
      "text/plain": [
       "0.30133333333333334"
      ]
     },
     "execution_count": 30,
     "metadata": {},
     "output_type": "execute_result"
    }
   ],
   "source": [
    "precisao"
   ]
  },
  {
   "cell_type": "code",
   "execution_count": 31,
   "metadata": {},
   "outputs": [
    {
     "name": "stderr",
     "output_type": "stream",
     "text": [
      "Using TensorFlow backend.\n"
     ]
    }
   ],
   "source": [
    "import keras\n",
    "from keras.models import Sequential\n",
    "from keras.layers import Dense, Activation"
   ]
  },
  {
   "cell_type": "code",
   "execution_count": 32,
   "metadata": {},
   "outputs": [],
   "source": [
    "def neural_network(previsores, classe_1):\n",
    "    previsores_treinamento1, previsores_teste1,classe_treinamento1, classe_teste1=train_test_split(previsores,classe_1,test_size=0.25, random_state=0)\n",
    "    classificador=Sequential()\n",
    "    classificador.add(Dense(units=55,activation='relu',input_dim=80))\n",
    "    classificador.add(Dense(units=55,activation='relu'))\n",
    "    classificador.add(Dense(units=1,activation='sigmoid'))#camada binária retorna sigmode\n",
    "    classificador.compile(optimizer='adam',loss='binary_crossentropy',metrics=['accuracy'])\n",
    "    classificador.fit(previsores_treinamento1,classe_treinamento1,batch_size=10,epochs=100)\n",
    "    previsoes1=classificador.predict(previsores_teste1)\n",
    "    previsoes1=(previsoes1>0.5)\n",
    "    precisao1=accuracy_score(classe_teste1,previsoes1)\n",
    "    matriz1=confusion_matrix(classe_teste1,previsoes1)\n",
    "    return precisao1, matriz1;"
   ]
  },
  {
   "cell_type": "code",
   "execution_count": 33,
   "metadata": {},
   "outputs": [
    {
     "name": "stdout",
     "output_type": "stream",
     "text": [
      "Epoch 1/100\n",
      "2250/2250 [==============================] - 1s 249us/step - loss: -89.3347 - accuracy: 0.3107\n",
      "Epoch 2/100\n",
      "2250/2250 [==============================] - 0s 116us/step - loss: -1671.6322 - accuracy: 0.3107\n",
      "Epoch 3/100\n",
      "2250/2250 [==============================] - 0s 114us/step - loss: -7940.0590 - accuracy: 0.3107\n",
      "Epoch 4/100\n",
      "2250/2250 [==============================] - 0s 121us/step - loss: -21625.9075 - accuracy: 0.3107\n",
      "Epoch 5/100\n",
      "2250/2250 [==============================] - 0s 116us/step - loss: -44931.6520 - accuracy: 0.3107\n",
      "Epoch 6/100\n",
      "2250/2250 [==============================] - 0s 118us/step - loss: -79785.0261 - accuracy: 0.3107\n",
      "Epoch 7/100\n",
      "2250/2250 [==============================] - 0s 115us/step - loss: -127758.3053 - accuracy: 0.3107\n",
      "Epoch 8/100\n",
      "2250/2250 [==============================] - 0s 116us/step - loss: -189808.6433 - accuracy: 0.3107\n",
      "Epoch 9/100\n",
      "2250/2250 [==============================] - 0s 116us/step - loss: -267410.5672 - accuracy: 0.3107\n",
      "Epoch 10/100\n",
      "2250/2250 [==============================] - 0s 116us/step - loss: -360056.0121 - accuracy: 0.3107\n",
      "Epoch 11/100\n",
      "2250/2250 [==============================] - 0s 121us/step - loss: -467780.9422 - accuracy: 0.3107\n",
      "Epoch 12/100\n",
      "2250/2250 [==============================] - 0s 117us/step - loss: -591357.0485 - accuracy: 0.3107\n",
      "Epoch 13/100\n",
      "2250/2250 [==============================] - 0s 116us/step - loss: -734155.3596 - accuracy: 0.3107\n",
      "Epoch 14/100\n",
      "2250/2250 [==============================] - 0s 116us/step - loss: -894698.2632 - accuracy: 0.3107\n",
      "Epoch 15/100\n",
      "2250/2250 [==============================] - 0s 120us/step - loss: -1073598.5045 - accuracy: 0.3107\n",
      "Epoch 16/100\n",
      "2250/2250 [==============================] - 0s 116us/step - loss: -1272109.7262 - accuracy: 0.3107\n",
      "Epoch 17/100\n",
      "2250/2250 [==============================] - 0s 117us/step - loss: -1488016.8925 - accuracy: 0.3107\n",
      "Epoch 18/100\n",
      "2250/2250 [==============================] - 0s 115us/step - loss: -1723459.8802 - accuracy: 0.3107\n",
      "Epoch 19/100\n",
      "2250/2250 [==============================] - 0s 123us/step - loss: -1980211.5563 - accuracy: 0.3107\n",
      "Epoch 20/100\n",
      "2250/2250 [==============================] - 0s 116us/step - loss: -2259171.6989 - accuracy: 0.3107\n",
      "Epoch 21/100\n",
      "2250/2250 [==============================] - 0s 123us/step - loss: -2560380.4463 - accuracy: 0.3107\n",
      "Epoch 22/100\n",
      "2250/2250 [==============================] - 0s 116us/step - loss: -2881407.9227 - accuracy: 0.3107\n",
      "Epoch 23/100\n",
      "2250/2250 [==============================] - 0s 119us/step - loss: -3222702.3580 - accuracy: 0.3107\n",
      "Epoch 24/100\n",
      "2250/2250 [==============================] - 0s 117us/step - loss: -3584252.3617 - accuracy: 0.3107\n",
      "Epoch 25/100\n",
      "2250/2250 [==============================] - 0s 117us/step - loss: -3967470.6844 - accuracy: 0.3107\n",
      "Epoch 26/100\n",
      "2250/2250 [==============================] - 0s 115us/step - loss: -4369983.0223 - accuracy: 0.3107\n",
      "Epoch 27/100\n",
      "2250/2250 [==============================] - 0s 117us/step - loss: -4796760.8731 - accuracy: 0.3107\n",
      "Epoch 28/100\n",
      "2250/2250 [==============================] - 0s 115us/step - loss: -5249118.7641 - accuracy: 0.3107\n",
      "Epoch 29/100\n",
      "2250/2250 [==============================] - 0s 115us/step - loss: -5724817.1819 - accuracy: 0.3107\n",
      "Epoch 30/100\n",
      "2250/2250 [==============================] - 0s 116us/step - loss: -6227447.7303 - accuracy: 0.3107\n",
      "Epoch 31/100\n",
      "2250/2250 [==============================] - 0s 117us/step - loss: -6754152.5963 - accuracy: 0.3107\n",
      "Epoch 32/100\n",
      "2250/2250 [==============================] - 0s 115us/step - loss: -7309604.9449 - accuracy: 0.3107\n",
      "Epoch 33/100\n",
      "2250/2250 [==============================] - 0s 118us/step - loss: -7886060.9091 - accuracy: 0.3107\n",
      "Epoch 34/100\n",
      "2250/2250 [==============================] - 0s 117us/step - loss: -8489284.1794 - accuracy: 0.3107\n",
      "Epoch 35/100\n",
      "2250/2250 [==============================] - 0s 117us/step - loss: -9120742.1748 - accuracy: 0.3107\n",
      "Epoch 36/100\n",
      "2250/2250 [==============================] - 0s 116us/step - loss: -9784098.0780 - accuracy: 0.3107\n",
      "Epoch 37/100\n",
      "2250/2250 [==============================] - 0s 116us/step - loss: -10472790.0939 - accuracy: 0.3107\n",
      "Epoch 38/100\n",
      "2250/2250 [==============================] - 0s 116us/step - loss: -11192797.2131 - accuracy: 0.3107\n",
      "Epoch 39/100\n",
      "2250/2250 [==============================] - 0s 117us/step - loss: -11938494.6650 - accuracy: 0.3107\n",
      "Epoch 40/100\n",
      "2250/2250 [==============================] - 0s 115us/step - loss: -12713665.8027 - accuracy: 0.3107\n",
      "Epoch 41/100\n",
      "2250/2250 [==============================] - 0s 116us/step - loss: -13521452.4531 - accuracy: 0.3107\n",
      "Epoch 42/100\n",
      "2250/2250 [==============================] - 0s 117us/step - loss: -14354927.3300 - accuracy: 0.3107\n",
      "Epoch 43/100\n",
      "2250/2250 [==============================] - 0s 116us/step - loss: -15220526.1226 - accuracy: 0.3107\n",
      "Epoch 44/100\n",
      "2250/2250 [==============================] - 0s 116us/step - loss: -16114604.9157 - accuracy: 0.3107\n",
      "Epoch 45/100\n",
      "2250/2250 [==============================] - 0s 115us/step - loss: -17036028.5964 - accuracy: 0.3107\n",
      "Epoch 46/100\n",
      "2250/2250 [==============================] - 0s 116us/step - loss: -17984035.6543 - accuracy: 0.3107\n",
      "Epoch 47/100\n",
      "2250/2250 [==============================] - 0s 115us/step - loss: -18964764.2937 - accuracy: 0.3107\n",
      "Epoch 48/100\n",
      "2250/2250 [==============================] - 0s 125us/step - loss: -19982359.4558 - accuracy: 0.3107\n",
      "Epoch 49/100\n",
      "2250/2250 [==============================] - 0s 117us/step - loss: -21032096.9985 - accuracy: 0.3107\n",
      "Epoch 50/100\n",
      "2250/2250 [==============================] - 0s 127us/step - loss: -22108304.2723 - accuracy: 0.3107\n",
      "Epoch 51/100\n",
      "2250/2250 [==============================] - 0s 116us/step - loss: -23218211.4263 - accuracy: 0.3107\n",
      "Epoch 52/100\n",
      "2250/2250 [==============================] - 0s 112us/step - loss: -24367923.0307 - accuracy: 0.3107\n",
      "Epoch 53/100\n",
      "2250/2250 [==============================] - 0s 112us/step - loss: -25552008.5447 - accuracy: 0.3107\n",
      "Epoch 54/100\n",
      "2250/2250 [==============================] - 0s 114us/step - loss: -26774093.2719 - accuracy: 0.3107\n",
      "Epoch 55/100\n",
      "2250/2250 [==============================] - 0s 112us/step - loss: -28034015.8506 - accuracy: 0.3107\n",
      "Epoch 56/100\n",
      "2250/2250 [==============================] - 0s 113us/step - loss: -29332153.0339 - accuracy: 0.3107\n",
      "Epoch 57/100\n",
      "2250/2250 [==============================] - 0s 114us/step - loss: -30669970.7488 - accuracy: 0.3107\n",
      "Epoch 58/100\n",
      "2250/2250 [==============================] - 0s 113us/step - loss: -32052560.1441 - accuracy: 0.3107\n",
      "Epoch 59/100\n",
      "2250/2250 [==============================] - 0s 114us/step - loss: -33468809.8936 - accuracy: 0.3107\n",
      "Epoch 60/100\n",
      "2250/2250 [==============================] - 0s 114us/step - loss: -34917692.6850 - accuracy: 0.3107\n",
      "Epoch 61/100\n",
      "2250/2250 [==============================] - 0s 112us/step - loss: -36403611.1815 - accuracy: 0.3107\n",
      "Epoch 62/100\n",
      "2250/2250 [==============================] - 0s 114us/step - loss: -37927343.9636 - accuracy: 0.3107\n",
      "Epoch 63/100\n",
      "2250/2250 [==============================] - 0s 121us/step - loss: -39488805.6804 - accuracy: 0.3107\n",
      "Epoch 64/100\n",
      "2250/2250 [==============================] - 0s 115us/step - loss: -41093559.4951 - accuracy: 0.3107\n",
      "Epoch 65/100\n",
      "2250/2250 [==============================] - 0s 115us/step - loss: -42742031.2850 - accuracy: 0.3107\n",
      "Epoch 66/100\n",
      "2250/2250 [==============================] - 0s 114us/step - loss: -44436990.7677 - accuracy: 0.3107\n",
      "Epoch 67/100\n",
      "2250/2250 [==============================] - 0s 115us/step - loss: -46172749.2086 - accuracy: 0.3107\n",
      "Epoch 68/100\n",
      "2250/2250 [==============================] - 0s 115us/step - loss: -47955692.8417 - accuracy: 0.3107\n",
      "Epoch 69/100\n",
      "2250/2250 [==============================] - 0s 113us/step - loss: -49787609.1294 - accuracy: 0.3107\n",
      "Epoch 70/100\n",
      "2250/2250 [==============================] - 0s 115us/step - loss: -51665248.0608 - accuracy: 0.3107\n",
      "Epoch 71/100\n",
      "2250/2250 [==============================] - 0s 113us/step - loss: -53585502.8614 - accuracy: 0.3107\n",
      "Epoch 72/100\n",
      "2250/2250 [==============================] - 0s 112us/step - loss: -55536294.7659 - accuracy: 0.3107\n",
      "Epoch 73/100\n",
      "2250/2250 [==============================] - 0s 113us/step - loss: -57528921.7379 - accuracy: 0.3107\n",
      "Epoch 74/100\n",
      "2250/2250 [==============================] - 0s 113us/step - loss: -59568698.2052 - accuracy: 0.3107\n",
      "Epoch 75/100\n",
      "2250/2250 [==============================] - 0s 113us/step - loss: -61650920.3732 - accuracy: 0.3107\n",
      "Epoch 76/100\n",
      "2250/2250 [==============================] - 0s 114us/step - loss: -63776133.6883 - accuracy: 0.3107\n",
      "Epoch 77/100\n",
      "2250/2250 [==============================] - 0s 114us/step - loss: -65943094.2072 - accuracy: 0.3107\n",
      "Epoch 78/100\n",
      "2250/2250 [==============================] - 0s 112us/step - loss: -68157892.4468 - accuracy: 0.3107\n",
      "Epoch 79/100\n",
      "2250/2250 [==============================] - 0s 113us/step - loss: -70424956.9176 - accuracy: 0.3107\n",
      "Epoch 80/100\n",
      "2250/2250 [==============================] - 0s 114us/step - loss: -72749318.7403 - accuracy: 0.3107\n",
      "Epoch 81/100\n",
      "2250/2250 [==============================] - 0s 114us/step - loss: -75134129.9192 - accuracy: 0.3107\n",
      "Epoch 82/100\n",
      "2250/2250 [==============================] - 0s 114us/step - loss: -77559594.3494 - accuracy: 0.3107\n",
      "Epoch 83/100\n",
      "2250/2250 [==============================] - 0s 113us/step - loss: -80024528.1928 - accuracy: 0.3107\n",
      "Epoch 84/100\n",
      "2250/2250 [==============================] - 0s 120us/step - loss: -82554098.2985 - accuracy: 0.3107\n",
      "Epoch 85/100\n",
      "2250/2250 [==============================] - 0s 113us/step - loss: -85126384.4764 - accuracy: 0.3107\n",
      "Epoch 86/100\n",
      "2250/2250 [==============================] - 0s 113us/step - loss: -87733040.6394 - accuracy: 0.3107\n",
      "Epoch 87/100\n",
      "2250/2250 [==============================] - 0s 113us/step - loss: -90415270.3020 - accuracy: 0.3107\n",
      "Epoch 88/100\n",
      "2250/2250 [==============================] - 0s 115us/step - loss: -93143744.4243 - accuracy: 0.3107\n",
      "Epoch 89/100\n",
      "2250/2250 [==============================] - 0s 114us/step - loss: -95925368.8621 - accuracy: 0.3107\n",
      "Epoch 90/100\n",
      "2250/2250 [==============================] - 0s 113us/step - loss: -98762056.0862 - accuracy: 0.3107\n",
      "Epoch 91/100\n",
      "2250/2250 [==============================] - 0s 112us/step - loss: -101645371.6797 - accuracy: 0.3107\n",
      "Epoch 92/100\n",
      "2250/2250 [==============================] - 0s 111us/step - loss: -104591897.3075 - accuracy: 0.3107\n",
      "Epoch 93/100\n",
      "2250/2250 [==============================] - 0s 115us/step - loss: -107602690.6600 - accuracy: 0.3107\n",
      "Epoch 94/100\n",
      "2250/2250 [==============================] - 0s 112us/step - loss: -110667259.3103 - accuracy: 0.3107\n",
      "Epoch 95/100\n",
      "2250/2250 [==============================] - 0s 112us/step - loss: -113777916.4140 - accuracy: 0.3107\n",
      "Epoch 96/100\n",
      "2250/2250 [==============================] - 0s 112us/step - loss: -116955407.1211 - accuracy: 0.3107\n",
      "Epoch 97/100\n",
      "2250/2250 [==============================] - 0s 115us/step - loss: -120194846.1114 - accuracy: 0.3107\n",
      "Epoch 98/100\n",
      "2250/2250 [==============================] - 0s 114us/step - loss: -123480229.3178 - accuracy: 0.3107\n",
      "Epoch 99/100\n",
      "2250/2250 [==============================] - 0s 115us/step - loss: -126804070.8929 - accuracy: 0.3107\n",
      "Epoch 100/100\n",
      "2250/2250 [==============================] - 0s 114us/step - loss: -130190083.8222 - accuracy: 0.3107\n"
     ]
    }
   ],
   "source": [
    "precisao1,matriz1=neural_network(previsores,classe)"
   ]
  },
  {
   "cell_type": "code",
   "execution_count": 34,
   "metadata": {},
   "outputs": [
    {
     "data": {
      "text/plain": [
       "0.31066666666666665"
      ]
     },
     "execution_count": 34,
     "metadata": {},
     "output_type": "execute_result"
    }
   ],
   "source": [
    "precisao1"
   ]
  },
  {
   "cell_type": "code",
   "execution_count": 35,
   "metadata": {},
   "outputs": [
    {
     "data": {
      "text/plain": [
       "[{'modelo': 'Random Florest', 'Precisão': 0.5973333333333334},\n",
       " {'modelo': 'Gradient Boosting:', 'Precisão': 0.796},\n",
       " {'modelo': 'Tree Decision:', 'Precisão': 0.30133333333333334},\n",
       " {'modelo': 'Neural Network:', 'Precisão': 0.31066666666666665}]"
      ]
     },
     "execution_count": 35,
     "metadata": {},
     "output_type": "execute_result"
    }
   ],
   "source": [
    "array.append({'modelo':\"Neural Network:\", \"Precisão\":precisao1})\n",
    "array"
   ]
  }
 ],
 "metadata": {
  "kernelspec": {
   "display_name": "Python 3",
   "language": "python",
   "name": "python3"
  },
  "language_info": {
   "codemirror_mode": {
    "name": "ipython",
    "version": 3
   },
   "file_extension": ".py",
   "mimetype": "text/x-python",
   "name": "python",
   "nbconvert_exporter": "python",
   "pygments_lexer": "ipython3",
   "version": "3.7.6"
  }
 },
 "nbformat": 4,
 "nbformat_minor": 4
}
